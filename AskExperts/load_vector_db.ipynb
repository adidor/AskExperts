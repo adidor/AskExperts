{
 "cells": [
  {
   "cell_type": "code",
   "execution_count": 10,
   "metadata": {},
   "outputs": [],
   "source": [
    "import chromadb\n",
    "import os\n",
    "channel_directory = os.path.join(os.getcwd(), 'HubermanTranscripts')\n",
    "client = chromadb.PersistentClient(path=os.path.join(os.getcwd(), 'chroma'))\n",
    "\n",
    "\n",
    "\n"
   ]
  },
  {
   "cell_type": "code",
   "execution_count": 11,
   "metadata": {},
   "outputs": [],
   "source": [
    "collection = client.create_collection(name=\"HubermanTranscripts\")\n"
   ]
  },
  {
   "cell_type": "code",
   "execution_count": 12,
   "metadata": {},
   "outputs": [],
   "source": [
    "import json\n",
    "directory_path = os.path.join(os.getcwd(), 'HubermanTranscripts')\n",
    "json_files = [f for f in os.listdir(directory_path) if f.endswith('.json')]\n",
    "\n",
    "global_id_counter=0\n",
    "for json_file in json_files:\n",
    "    json_path = os.path.join(directory_path, json_file)\n",
    "    \n",
    "    with open(json_path, 'r', encoding='utf-8') as file:\n",
    "        data = json.load(file)\n",
    "    \n",
    "    # Extract the relevant data from the current JSON file\n",
    "    documents = [item['text'] for item in data]\n",
    "    # Assuming you have a method to generate embeddings for each document\n",
    "    metadatas = [{\"title\": item['title'], \"start\": item['start'], \"duration\": item['duration']} for item in data]\n",
    "    ids = [str(i) for i in range(len(data))]\n",
    "\n",
    "    # Add the data from the current JSON file to the collection\n",
    "    ids = [\"id\" + str(global_id_counter + i) for i in range(len(data))]\n",
    "    global_id_counter += len(data)\n",
    "    collection.add(\n",
    "        documents=documents,\n",
    "        metadatas=metadatas,\n",
    "        ids=ids\n",
    "    )\n"
   ]
  },
  {
   "cell_type": "code",
   "execution_count": null,
   "metadata": {},
   "outputs": [],
   "source": []
  }
 ],
 "metadata": {
  "kernelspec": {
   "display_name": "venv",
   "language": "python",
   "name": "python3"
  },
  "language_info": {
   "codemirror_mode": {
    "name": "ipython",
    "version": 3
   },
   "file_extension": ".py",
   "mimetype": "text/x-python",
   "name": "python",
   "nbconvert_exporter": "python",
   "pygments_lexer": "ipython3",
   "version": "3.11.5"
  },
  "orig_nbformat": 4
 },
 "nbformat": 4,
 "nbformat_minor": 2
}
