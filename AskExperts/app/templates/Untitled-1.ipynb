{
 "cells": [
  {
   "cell_type": "code",
   "execution_count": 1,
   "metadata": {},
   "outputs": [
    {
     "name": "stdout",
     "output_type": "stream",
     "text": [
      "Runtime for grid size 5000x5000: 7.946383237838745 seconds\n"
     ]
    }
   ],
   "source": [
    "import time\n",
    "import numpy as np\n",
    "\n",
    "def divide_and_conquer(grid):\n",
    "    m = len(grid)\n",
    "    \n",
    "    # Base case\n",
    "    if m <= 1:\n",
    "        return 1\n",
    "    \n",
    "    # Split the grid into 4 quadrants\n",
    "    half = m // 2\n",
    "    q1_grid = grid[:half, :half]\n",
    "    q2_grid = grid[:half, half:]\n",
    "    q3_grid = grid[half:, :half]\n",
    "    q4_grid = grid[half:, half:]\n",
    "\n",
    "    # Recursively solve for each quadrant\n",
    "    q1 = divide_and_conquer(q1_grid)\n",
    "    q2 = divide_and_conquer(q2_grid)\n",
    "    q3 = divide_and_conquer(q3_grid)\n",
    "    q4 = divide_and_conquer(q4_grid)\n",
    "    \n",
    "    # Combine: for the sake of simulation, just loop n times\n",
    "    for i in range(m):\n",
    "        pass\n",
    "\n",
    "    return q1 + q2 + q3 + q4\n",
    "\n",
    "# Create an n x n grid\n",
    "n = 5000\n",
    "grid = np.array([[0 for _ in range(n)] for _ in range(n)])\n",
    "\n",
    "start_time = time.time()\n",
    "divide_and_conquer(grid)\n",
    "end_time = time.time()\n",
    "\n",
    "print(f\"Runtime for grid size {n}x{n}: {end_time - start_time} seconds\")\n",
    "#Runtime for grid size 256x256: 0.025880098342895508 seconds\n",
    "#Runtime for grid size 512x512: 0.07754802703857422 seconds\n",
    "#Runtime for grid size 1024x1024: 0.29514098167419434 seconds\n",
    "#Runtime for grid size 16x16: 0.0003147125244140625 seconds\n",
    "\n",
    "\n"
   ]
  }
 ],
 "metadata": {
  "kernelspec": {
   "display_name": "Python 3",
   "language": "python",
   "name": "python3"
  },
  "language_info": {
   "codemirror_mode": {
    "name": "ipython",
    "version": 3
   },
   "file_extension": ".py",
   "mimetype": "text/x-python",
   "name": "python",
   "nbconvert_exporter": "python",
   "pygments_lexer": "ipython3",
   "version": "3.11.5"
  },
  "orig_nbformat": 4
 },
 "nbformat": 4,
 "nbformat_minor": 2
}
